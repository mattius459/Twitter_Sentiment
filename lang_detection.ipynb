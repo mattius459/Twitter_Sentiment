{
 "cells": [
  {
   "cell_type": "code",
   "execution_count": null,
   "metadata": {},
   "outputs": [],
   "source": [
    "import pandas as pd, numpy as np"
   ]
  },
  {
   "cell_type": "code",
   "execution_count": null,
   "metadata": {},
   "outputs": [],
   "source": [
    "#open your full df etc."
   ]
  },
  {
   "cell_type": "code",
   "execution_count": null,
   "metadata": {},
   "outputs": [],
   "source": [
    "# Using langdetect API (Faster, ~2% Less accurate)\n",
    "from langdetect import detect\n",
    "lang = []\n",
    "for i in range(0,len(df['text'])):\n",
    "\n",
    "    try:\n",
    "        lang.append(detect(df.text[i]))\n",
    "\n",
    "    except:\n",
    "\n",
    "        try:\n",
    "            lang.append(googletrans_src(df.text[i]))\n",
    "\n",
    "        except:\n",
    "            lang.append('')\n",
    "\n",
    "    if (i%100000 == 0):\n",
    "        print(i)\n",
    "        with open('lang.pkl', 'wb') as picklefile:\n",
    "            pickle.dump(pd.Series(lang), picklefile)\n",
    "\n",
    "with open('lang.pkl', 'wb') as picklefile:\n",
    "    pickle.dump(pd.Series(lang), picklefile)"
   ]
  },
  {
   "cell_type": "code",
   "execution_count": null,
   "metadata": {},
   "outputs": [],
   "source": [
    "len(lang)"
   ]
  },
  {
   "cell_type": "code",
   "execution_count": null,
   "metadata": {},
   "outputs": [],
   "source": [
    "pd.Series(lang).value_counts().head()"
   ]
  },
  {
   "cell_type": "code",
   "execution_count": null,
   "metadata": {},
   "outputs": [],
   "source": [
    "df['lang']=lang\n",
    "df.head()"
   ]
  },
  {
   "cell_type": "code",
   "execution_count": null,
   "metadata": {},
   "outputs": [],
   "source": [
    "#Splitting separating language to english and cleaning\n",
    "df_en = df[df['lang']=='en']\n",
    "\n",
    "df_other = df[df['lang']!='en']\n",
    "df = None"
   ]
  },
  {
   "cell_type": "code",
   "execution_count": null,
   "metadata": {},
   "outputs": [],
   "source": []
  },
  {
   "cell_type": "code",
   "execution_count": null,
   "metadata": {},
   "outputs": [],
   "source": [
    "#and this is glob:\n",
    "\n",
    "import glob\n",
    "\n",
    "allFiles = glob.glob('health_map/*.csv')\n",
    "frame = pd.DataFrame()\n",
    "list_ = []\n",
    "for file_ in allFiles:\n",
    "    df = pd.read_csv(file_,index_col=None, header=0)\n",
    "    list_.append(df)\n",
    "frame = pd.concat(list_, ignore_index=True)\n",
    "\n",
    "frame.head()"
   ]
  },
  {
   "cell_type": "code",
   "execution_count": null,
   "metadata": {},
   "outputs": [],
   "source": []
  },
  {
   "cell_type": "code",
   "execution_count": null,
   "metadata": {},
   "outputs": [],
   "source": []
  }
 ],
 "metadata": {
  "kernelspec": {
   "display_name": "Python 3",
   "language": "python",
   "name": "python3"
  },
  "language_info": {
   "codemirror_mode": {
    "name": "ipython",
    "version": 3
   },
   "file_extension": ".py",
   "mimetype": "text/x-python",
   "name": "python",
   "nbconvert_exporter": "python",
   "pygments_lexer": "ipython3",
   "version": "3.6.6"
  }
 },
 "nbformat": 4,
 "nbformat_minor": 2
}
