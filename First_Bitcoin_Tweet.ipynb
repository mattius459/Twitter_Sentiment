{
 "cells": [
  {
   "cell_type": "code",
   "execution_count": 35,
   "metadata": {},
   "outputs": [],
   "source": [
    "import pandas as pd\n",
    "\n",
    "pd.set_option('display.max_rows', 550)\n",
    "pd.set_option('display.max_columns', 40)\n",
    "pd.set_option('display.max_colwidth', 200)"
   ]
  },
  {
   "cell_type": "code",
   "execution_count": 36,
   "metadata": {},
   "outputs": [],
   "source": [
    "df = pd.read_csv('mattahlborg.csv')"
   ]
  },
  {
   "cell_type": "code",
   "execution_count": 37,
   "metadata": {},
   "outputs": [
    {
     "data": {
      "text/html": [
       "<div>\n",
       "<style scoped>\n",
       "    .dataframe tbody tr th:only-of-type {\n",
       "        vertical-align: middle;\n",
       "    }\n",
       "\n",
       "    .dataframe tbody tr th {\n",
       "        vertical-align: top;\n",
       "    }\n",
       "\n",
       "    .dataframe thead th {\n",
       "        text-align: right;\n",
       "    }\n",
       "</style>\n",
       "<table border=\"1\" class=\"dataframe\">\n",
       "  <thead>\n",
       "    <tr style=\"text-align: right;\">\n",
       "      <th></th>\n",
       "      <th>date</th>\n",
       "      <th>username</th>\n",
       "      <th>to</th>\n",
       "      <th>retweets</th>\n",
       "      <th>favorites</th>\n",
       "      <th>text</th>\n",
       "      <th>geo</th>\n",
       "      <th>mentions</th>\n",
       "      <th>hashtags</th>\n",
       "      <th>id</th>\n",
       "      <th>permalink</th>\n",
       "    </tr>\n",
       "  </thead>\n",
       "  <tbody>\n",
       "    <tr>\n",
       "      <th>0</th>\n",
       "      <td>2018-11-08 18:33:59</td>\n",
       "      <td>MattAhlborg</td>\n",
       "      <td>lawmaster</td>\n",
       "      <td>0</td>\n",
       "      <td>1</td>\n",
       "      <td>So if I'm understanding correctly, ED's non-custody of user funds did not prevent the SEC from pursuing charges. Instead, they were able to prosecute ED due to the facilitation of such trades via ...</td>\n",
       "      <td>NaN</td>\n",
       "      <td>NaN</td>\n",
       "      <td>NaN</td>\n",
       "      <td>1060601343562391553</td>\n",
       "      <td>https://twitter.com/MattAhlborg/status/1060601343562391553</td>\n",
       "    </tr>\n",
       "    <tr>\n",
       "      <th>1</th>\n",
       "      <td>2018-11-07 17:54:29</td>\n",
       "      <td>MattAhlborg</td>\n",
       "      <td>NaN</td>\n",
       "      <td>0</td>\n",
       "      <td>2</td>\n",
       "      <td>Do you think it is productive to be this vicious and polarizing? Does it help your cause or hurt it? Does it serve your ego, your cause, both, none?</td>\n",
       "      <td>NaN</td>\n",
       "      <td>NaN</td>\n",
       "      <td>NaN</td>\n",
       "      <td>1060229012386131968</td>\n",
       "      <td>https://twitter.com/MattAhlborg/status/1060229012386131968</td>\n",
       "    </tr>\n",
       "    <tr>\n",
       "      <th>2</th>\n",
       "      <td>2018-11-07 17:35:27</td>\n",
       "      <td>MattAhlborg</td>\n",
       "      <td>AmberBaldet</td>\n",
       "      <td>0</td>\n",
       "      <td>3</td>\n",
       "      <td>People “don’t like to discuss politics” because people like you instantly label them as racist if they don’t agree with your every belief. In this case, you didn’t even need to know their politics...</td>\n",
       "      <td>NaN</td>\n",
       "      <td>NaN</td>\n",
       "      <td>NaN</td>\n",
       "      <td>1060224222805540865</td>\n",
       "      <td>https://twitter.com/MattAhlborg/status/1060224222805540865</td>\n",
       "    </tr>\n",
       "    <tr>\n",
       "      <th>3</th>\n",
       "      <td>2018-11-06 15:32:11</td>\n",
       "      <td>MattAhlborg</td>\n",
       "      <td>KyleSamani</td>\n",
       "      <td>0</td>\n",
       "      <td>0</td>\n",
       "      <td>Concentration matters if it plays a role in the governance of that particular money/token, which is true, at least to a degree, in most cases.</td>\n",
       "      <td>NaN</td>\n",
       "      <td>NaN</td>\n",
       "      <td>NaN</td>\n",
       "      <td>1059830814907731968</td>\n",
       "      <td>https://twitter.com/MattAhlborg/status/1059830814907731968</td>\n",
       "    </tr>\n",
       "    <tr>\n",
       "      <th>4</th>\n",
       "      <td>2018-10-31 00:51:20</td>\n",
       "      <td>MattAhlborg</td>\n",
       "      <td>billbarhydt</td>\n",
       "      <td>0</td>\n",
       "      <td>2</td>\n",
       "      <td>Some ideologues would rather literally step over helpless/dying people on their way to work than admit that their own logic/worldview may be flawed.</td>\n",
       "      <td>NaN</td>\n",
       "      <td>NaN</td>\n",
       "      <td>NaN</td>\n",
       "      <td>1057434811931987974</td>\n",
       "      <td>https://twitter.com/MattAhlborg/status/1057434811931987974</td>\n",
       "    </tr>\n",
       "  </tbody>\n",
       "</table>\n",
       "</div>"
      ],
      "text/plain": [
       "                  date     username           to  retweets  favorites  \\\n",
       "0  2018-11-08 18:33:59  MattAhlborg    lawmaster         0          1   \n",
       "1  2018-11-07 17:54:29  MattAhlborg          NaN         0          2   \n",
       "2  2018-11-07 17:35:27  MattAhlborg  AmberBaldet         0          3   \n",
       "3  2018-11-06 15:32:11  MattAhlborg   KyleSamani         0          0   \n",
       "4  2018-10-31 00:51:20  MattAhlborg  billbarhydt         0          2   \n",
       "\n",
       "                                                                                                                                                                                                      text  \\\n",
       "0  So if I'm understanding correctly, ED's non-custody of user funds did not prevent the SEC from pursuing charges. Instead, they were able to prosecute ED due to the facilitation of such trades via ...   \n",
       "1                                                     Do you think it is productive to be this vicious and polarizing? Does it help your cause or hurt it? Does it serve your ego, your cause, both, none?   \n",
       "2  People “don’t like to discuss politics” because people like you instantly label them as racist if they don’t agree with your every belief. In this case, you didn’t even need to know their politics...   \n",
       "3                                                           Concentration matters if it plays a role in the governance of that particular money/token, which is true, at least to a degree, in most cases.   \n",
       "4                                                     Some ideologues would rather literally step over helpless/dying people on their way to work than admit that their own logic/worldview may be flawed.   \n",
       "\n",
       "   geo mentions hashtags                   id  \\\n",
       "0  NaN      NaN      NaN  1060601343562391553   \n",
       "1  NaN      NaN      NaN  1060229012386131968   \n",
       "2  NaN      NaN      NaN  1060224222805540865   \n",
       "3  NaN      NaN      NaN  1059830814907731968   \n",
       "4  NaN      NaN      NaN  1057434811931987974   \n",
       "\n",
       "                                                    permalink  \n",
       "0  https://twitter.com/MattAhlborg/status/1060601343562391553  \n",
       "1  https://twitter.com/MattAhlborg/status/1060229012386131968  \n",
       "2  https://twitter.com/MattAhlborg/status/1060224222805540865  \n",
       "3  https://twitter.com/MattAhlborg/status/1059830814907731968  \n",
       "4  https://twitter.com/MattAhlborg/status/1057434811931987974  "
      ]
     },
     "execution_count": 37,
     "metadata": {},
     "output_type": "execute_result"
    }
   ],
   "source": [
    "df.head()"
   ]
  },
  {
   "cell_type": "code",
   "execution_count": 38,
   "metadata": {},
   "outputs": [
    {
     "data": {
      "text/plain": [
       "Timestamp('2014-01-03 03:19:10')"
      ]
     },
     "execution_count": 38,
     "metadata": {},
     "output_type": "execute_result"
    }
   ],
   "source": [
    "#First Bitcoin Tweet\n",
    "df['date'] = pd.to_datetime(df.date)\n",
    "df = df.sort_values(by='date')\n",
    "df = df[df['text'].str.contains(\"Bitcoin\")]\n",
    "df = df.reset_index()\n",
    "first_tweet_date = df.iloc[0]['date']\n",
    "first_tweet_date"
   ]
  },
  {
   "cell_type": "code",
   "execution_count": 39,
   "metadata": {},
   "outputs": [],
   "source": []
  },
  {
   "cell_type": "code",
   "execution_count": null,
   "metadata": {},
   "outputs": [],
   "source": [
    "\"\"\"\n",
    "User features:\n",
    "\n",
    "First Bitcoin tweet\n",
    "avg_likes\n",
    "avg_rt\n",
    "avg_mlu\n",
    "avg_word_freq\n",
    "num_followers\n",
    "Percentage of tweets referencing Bitcoin\n",
    "\n",
    "\"\"\""
   ]
  },
  {
   "cell_type": "code",
   "execution_count": null,
   "metadata": {},
   "outputs": [],
   "source": [
    "\"\"\"\n",
    "run instance\n",
    "get command line up on instance\n",
    "download getoldtweets3 from command line\n",
    "run getoldtweet3 from command line, store in csv\n",
    "once you have csv, run pre-processing file\n",
    "\n",
    "\"\"\""
   ]
  },
  {
   "cell_type": "code",
   "execution_count": null,
   "metadata": {},
   "outputs": [],
   "source": []
  },
  {
   "cell_type": "code",
   "execution_count": null,
   "metadata": {},
   "outputs": [],
   "source": []
  },
  {
   "cell_type": "code",
   "execution_count": null,
   "metadata": {},
   "outputs": [],
   "source": []
  }
 ],
 "metadata": {
  "kernelspec": {
   "display_name": "Python 3",
   "language": "python",
   "name": "python3"
  },
  "language_info": {
   "codemirror_mode": {
    "name": "ipython",
    "version": 3
   },
   "file_extension": ".py",
   "mimetype": "text/x-python",
   "name": "python",
   "nbconvert_exporter": "python",
   "pygments_lexer": "ipython3",
   "version": "3.6.6"
  }
 },
 "nbformat": 4,
 "nbformat_minor": 2
}
