{
 "cells": [
  {
   "cell_type": "code",
   "execution_count": 292,
   "metadata": {},
   "outputs": [],
   "source": [
    "import pandas as pd\n",
    "\n",
    "pd.set_option('display.max_rows', 550)\n",
    "pd.set_option('display.max_columns', 40)\n",
    "pd.set_option('display.max_colwidth', 200)"
   ]
  },
  {
   "cell_type": "code",
   "execution_count": 293,
   "metadata": {
    "scrolled": true
   },
   "outputs": [
    {
     "data": {
      "text/html": [
       "<div>\n",
       "<style scoped>\n",
       "    .dataframe tbody tr th:only-of-type {\n",
       "        vertical-align: middle;\n",
       "    }\n",
       "\n",
       "    .dataframe tbody tr th {\n",
       "        vertical-align: top;\n",
       "    }\n",
       "\n",
       "    .dataframe thead th {\n",
       "        text-align: right;\n",
       "    }\n",
       "</style>\n",
       "<table border=\"1\" class=\"dataframe\">\n",
       "  <thead>\n",
       "    <tr style=\"text-align: right;\">\n",
       "      <th></th>\n",
       "      <th>date</th>\n",
       "      <th>username</th>\n",
       "      <th>retweets</th>\n",
       "      <th>favorites</th>\n",
       "      <th>text</th>\n",
       "      <th>hashtags</th>\n",
       "      <th>id</th>\n",
       "      <th>permalink</th>\n",
       "    </tr>\n",
       "  </thead>\n",
       "  <tbody>\n",
       "    <tr>\n",
       "      <th>227094</th>\n",
       "      <td>2018-02-01 00:00:00</td>\n",
       "      <td>XSBlockChain</td>\n",
       "      <td>1</td>\n",
       "      <td>2</td>\n",
       "      <td>BREAKING NEWS: #Gold is 'too heavy and too slow to replace #Bitcoin ', Claims World #Bitcoin Council</td>\n",
       "      <td>#Gold #Bitcoin #Bitcoin</td>\n",
       "      <td>958852394447597568</td>\n",
       "      <td>https://twitter.com/XSBlockChain/status/958852394447597568</td>\n",
       "    </tr>\n",
       "  </tbody>\n",
       "</table>\n",
       "</div>"
      ],
      "text/plain": [
       "                       date      username  retweets  favorites  \\\n",
       "227094  2018-02-01 00:00:00  XSBlockChain         1          2   \n",
       "\n",
       "                                                                                                        text  \\\n",
       "227094  BREAKING NEWS: #Gold is 'too heavy and too slow to replace #Bitcoin ', Claims World #Bitcoin Council   \n",
       "\n",
       "                       hashtags                  id  \\\n",
       "227094  #Gold #Bitcoin #Bitcoin  958852394447597568   \n",
       "\n",
       "                                                         permalink  \n",
       "227094  https://twitter.com/XSBlockChain/status/958852394447597568  "
      ]
     },
     "execution_count": 293,
     "metadata": {},
     "output_type": "execute_result"
    }
   ],
   "source": [
    "#1\n",
    "\n",
    "tweets = pd.read_csv('GetOldTweets3-master-1/output_got.csv')\n",
    "\n",
    "#remove unnecessary columns\n",
    "tweets = tweets.drop(columns = ['to', 'geo', 'mentions'])\n",
    "tweets.tail(1)\n",
    "\n",
    "# GetOldTweets3 --querysearch \"Bitcoin\" --since 2018-02-01 --until 2018-02-05 --lang en"
   ]
  },
  {
   "cell_type": "code",
   "execution_count": 294,
   "metadata": {},
   "outputs": [
    {
     "data": {
      "text/html": [
       "<div>\n",
       "<style scoped>\n",
       "    .dataframe tbody tr th:only-of-type {\n",
       "        vertical-align: middle;\n",
       "    }\n",
       "\n",
       "    .dataframe tbody tr th {\n",
       "        vertical-align: top;\n",
       "    }\n",
       "\n",
       "    .dataframe thead th {\n",
       "        text-align: right;\n",
       "    }\n",
       "</style>\n",
       "<table border=\"1\" class=\"dataframe\">\n",
       "  <thead>\n",
       "    <tr style=\"text-align: right;\">\n",
       "      <th></th>\n",
       "      <th>date</th>\n",
       "      <th>username</th>\n",
       "      <th>retweets</th>\n",
       "      <th>favorites</th>\n",
       "      <th>text</th>\n",
       "      <th>hashtags</th>\n",
       "      <th>id</th>\n",
       "      <th>permalink</th>\n",
       "    </tr>\n",
       "  </thead>\n",
       "  <tbody>\n",
       "    <tr>\n",
       "      <th>53033</th>\n",
       "      <td>2017-03-28 12:24:37</td>\n",
       "      <td>bizonacci</td>\n",
       "      <td>0</td>\n",
       "      <td>0</td>\n",
       "      <td>Beyond Bitcoin : Discovering FinTech's Potential http:// dlvr.it/Nl6pNV #TradeGoX</td>\n",
       "      <td>#TradeGoX</td>\n",
       "      <td>846699546184892416</td>\n",
       "      <td>https://twitter.com/bizonacci/status/846699546184892416</td>\n",
       "    </tr>\n",
       "  </tbody>\n",
       "</table>\n",
       "</div>"
      ],
      "text/plain": [
       "                      date   username  retweets  favorites  \\\n",
       "53033  2017-03-28 12:24:37  bizonacci         0          0   \n",
       "\n",
       "                                                                                    text  \\\n",
       "53033  Beyond Bitcoin : Discovering FinTech's Potential http:// dlvr.it/Nl6pNV #TradeGoX   \n",
       "\n",
       "        hashtags                  id  \\\n",
       "53033  #TradeGoX  846699546184892416   \n",
       "\n",
       "                                                     permalink  \n",
       "53033  https://twitter.com/bizonacci/status/846699546184892416  "
      ]
     },
     "execution_count": 294,
     "metadata": {},
     "output_type": "execute_result"
    }
   ],
   "source": [
    "#2\n",
    "\n",
    "tweets = pd.read_csv('GetOldTweets3-master-2/output_got.csv')\n",
    "\n",
    "#remove unnecessary columns\n",
    "tweets = tweets.drop(columns = ['to', 'geo', 'mentions'])\n",
    "tweets.tail(1)\n",
    "\n",
    "# GetOldTweets3 --querysearch \"Bitcoin\" --since 2017-03-01 --until 2017-03-28 --lang en"
   ]
  },
  {
   "cell_type": "code",
   "execution_count": 295,
   "metadata": {
    "scrolled": false
   },
   "outputs": [
    {
     "data": {
      "text/html": [
       "<div>\n",
       "<style scoped>\n",
       "    .dataframe tbody tr th:only-of-type {\n",
       "        vertical-align: middle;\n",
       "    }\n",
       "\n",
       "    .dataframe tbody tr th {\n",
       "        vertical-align: top;\n",
       "    }\n",
       "\n",
       "    .dataframe thead th {\n",
       "        text-align: right;\n",
       "    }\n",
       "</style>\n",
       "<table border=\"1\" class=\"dataframe\">\n",
       "  <thead>\n",
       "    <tr style=\"text-align: right;\">\n",
       "      <th></th>\n",
       "      <th>date</th>\n",
       "      <th>username</th>\n",
       "      <th>retweets</th>\n",
       "      <th>favorites</th>\n",
       "      <th>text</th>\n",
       "      <th>hashtags</th>\n",
       "      <th>id</th>\n",
       "      <th>permalink</th>\n",
       "    </tr>\n",
       "  </thead>\n",
       "  <tbody>\n",
       "    <tr>\n",
       "      <th>65872</th>\n",
       "      <td>2017-12-01 00:00:00</td>\n",
       "      <td>BTCBillionsBot</td>\n",
       "      <td>0</td>\n",
       "      <td>0</td>\n",
       "      <td>This just in: Bitcoin is rising! Current Rate: 9991.46 USD = 1 BTC</td>\n",
       "      <td>NaN</td>\n",
       "      <td>936384347220926466</td>\n",
       "      <td>https://twitter.com/BTCBillionsBot/status/936384347220926466</td>\n",
       "    </tr>\n",
       "  </tbody>\n",
       "</table>\n",
       "</div>"
      ],
      "text/plain": [
       "                      date        username  retweets  favorites  \\\n",
       "65872  2017-12-01 00:00:00  BTCBillionsBot         0          0   \n",
       "\n",
       "                                                                     text  \\\n",
       "65872  This just in: Bitcoin is rising! Current Rate: 9991.46 USD = 1 BTC   \n",
       "\n",
       "      hashtags                  id  \\\n",
       "65872      NaN  936384347220926466   \n",
       "\n",
       "                                                          permalink  \n",
       "65872  https://twitter.com/BTCBillionsBot/status/936384347220926466  "
      ]
     },
     "execution_count": 295,
     "metadata": {},
     "output_type": "execute_result"
    }
   ],
   "source": [
    "#3\n",
    "\n",
    "tweets = pd.read_csv('GetOldTweets3-master-3/output_got.csv')\n",
    "\n",
    "#remove unnecessary columns\n",
    "tweets = tweets.drop(columns = ['to', 'geo', 'mentions'])\n",
    "tweets.tail(1)\n",
    "\n",
    "# GetOldTweets3 --querysearch \"Bitcoin\" --since 2017-12-01 --until 2017-12-02 --lang en"
   ]
  },
  {
   "cell_type": "code",
   "execution_count": 298,
   "metadata": {},
   "outputs": [
    {
     "data": {
      "text/html": [
       "<div>\n",
       "<style scoped>\n",
       "    .dataframe tbody tr th:only-of-type {\n",
       "        vertical-align: middle;\n",
       "    }\n",
       "\n",
       "    .dataframe tbody tr th {\n",
       "        vertical-align: top;\n",
       "    }\n",
       "\n",
       "    .dataframe thead th {\n",
       "        text-align: right;\n",
       "    }\n",
       "</style>\n",
       "<table border=\"1\" class=\"dataframe\">\n",
       "  <thead>\n",
       "    <tr style=\"text-align: right;\">\n",
       "      <th></th>\n",
       "      <th>date</th>\n",
       "      <th>username</th>\n",
       "      <th>retweets</th>\n",
       "      <th>favorites</th>\n",
       "      <th>text</th>\n",
       "      <th>hashtags</th>\n",
       "      <th>id</th>\n",
       "      <th>permalink</th>\n",
       "    </tr>\n",
       "  </thead>\n",
       "  <tbody>\n",
       "    <tr>\n",
       "      <th>506099</th>\n",
       "      <td>2018-01-07 23:01:03</td>\n",
       "      <td>TV_TradingIdeas</td>\n",
       "      <td>1</td>\n",
       "      <td>2</td>\n",
       "      <td>Bitcoin gold bullish ascending triangle $BTGUSD http://www. tradingview.com/chart/BTGUSD/H LoqVV8q-Bitcoin-gold-bullish-ascending-triangle/ …</td>\n",
       "      <td>NaN</td>\n",
       "      <td>950140253745983488</td>\n",
       "      <td>https://twitter.com/TV_TradingIdeas/status/950140253745983488</td>\n",
       "    </tr>\n",
       "  </tbody>\n",
       "</table>\n",
       "</div>"
      ],
      "text/plain": [
       "                       date         username  retweets  favorites  \\\n",
       "506099  2018-01-07 23:01:03  TV_TradingIdeas         1          2   \n",
       "\n",
       "                                                                                                                                                 text  \\\n",
       "506099  Bitcoin gold bullish ascending triangle $BTGUSD http://www. tradingview.com/chart/BTGUSD/H LoqVV8q-Bitcoin-gold-bullish-ascending-triangle/ …   \n",
       "\n",
       "       hashtags                  id  \\\n",
       "506099      NaN  950140253745983488   \n",
       "\n",
       "                                                            permalink  \n",
       "506099  https://twitter.com/TV_TradingIdeas/status/950140253745983488  "
      ]
     },
     "execution_count": 298,
     "metadata": {},
     "output_type": "execute_result"
    }
   ],
   "source": [
    "#4\n",
    "\n",
    "tweets = pd.read_csv('GetOldTweets3-master-4/output_got.csv')\n",
    "\n",
    "#remove unnecessary columns\n",
    "tweets = tweets.drop(columns = ['to', 'geo', 'mentions'])\n",
    "tweets.tail(1)\n",
    "\n",
    "# GetOldTweets3 --querysearch \"Bitcoin\" --since 2018-01-01 --until 2018-01-07 --lang en"
   ]
  },
  {
   "cell_type": "code",
   "execution_count": 297,
   "metadata": {},
   "outputs": [
    {
     "data": {
      "text/html": [
       "<div>\n",
       "<style scoped>\n",
       "    .dataframe tbody tr th:only-of-type {\n",
       "        vertical-align: middle;\n",
       "    }\n",
       "\n",
       "    .dataframe tbody tr th {\n",
       "        vertical-align: top;\n",
       "    }\n",
       "\n",
       "    .dataframe thead th {\n",
       "        text-align: right;\n",
       "    }\n",
       "</style>\n",
       "<table border=\"1\" class=\"dataframe\">\n",
       "  <thead>\n",
       "    <tr style=\"text-align: right;\">\n",
       "      <th></th>\n",
       "      <th>date</th>\n",
       "      <th>username</th>\n",
       "      <th>retweets</th>\n",
       "      <th>favorites</th>\n",
       "      <th>text</th>\n",
       "      <th>hashtags</th>\n",
       "      <th>id</th>\n",
       "      <th>permalink</th>\n",
       "    </tr>\n",
       "  </thead>\n",
       "  <tbody>\n",
       "    <tr>\n",
       "      <th>90438</th>\n",
       "      <td>2018-02-12 07:56:00</td>\n",
       "      <td>Medici_Bank</td>\n",
       "      <td>0</td>\n",
       "      <td>0</td>\n",
       "      <td>Since the Korean government enforced the real-name system on #cryptocurrency accounts, banks have only been providing fiat deposit services to the country’s four largest . #cryptoexchanges #Bitcoin</td>\n",
       "      <td>#cryptocurrency #cryptoexchanges #Bitcoin</td>\n",
       "      <td>962958452258738177</td>\n",
       "      <td>https://twitter.com/Medici_Bank/status/962958452258738177</td>\n",
       "    </tr>\n",
       "  </tbody>\n",
       "</table>\n",
       "</div>"
      ],
      "text/plain": [
       "                      date     username  retweets  favorites  \\\n",
       "90438  2018-02-12 07:56:00  Medici_Bank         0          0   \n",
       "\n",
       "                                                                                                                                                                                                        text  \\\n",
       "90438  Since the Korean government enforced the real-name system on #cryptocurrency accounts, banks have only been providing fiat deposit services to the country’s four largest . #cryptoexchanges #Bitcoin   \n",
       "\n",
       "                                        hashtags                  id  \\\n",
       "90438  #cryptocurrency #cryptoexchanges #Bitcoin  962958452258738177   \n",
       "\n",
       "                                                       permalink  \n",
       "90438  https://twitter.com/Medici_Bank/status/962958452258738177  "
      ]
     },
     "execution_count": 297,
     "metadata": {},
     "output_type": "execute_result"
    }
   ],
   "source": [
    "#5\n",
    "\n",
    "tweets = pd.read_csv('GetOldTweets3-master-5/output_got.csv')\n",
    "\n",
    "#remove unnecessary columns\n",
    "tweets = tweets.drop(columns = ['to', 'geo', 'mentions'])\n",
    "tweets.tail(1)\n",
    "\n",
    "# GetOldTweets3 --querysearch \"Bitcoin\" --since 2018-02-06 --until 2018-02-12 --lang en"
   ]
  },
  {
   "cell_type": "code",
   "execution_count": null,
   "metadata": {},
   "outputs": [],
   "source": []
  },
  {
   "cell_type": "code",
   "execution_count": null,
   "metadata": {},
   "outputs": [],
   "source": []
  },
  {
   "cell_type": "code",
   "execution_count": null,
   "metadata": {},
   "outputs": [],
   "source": []
  },
  {
   "cell_type": "code",
   "execution_count": null,
   "metadata": {},
   "outputs": [],
   "source": []
  },
  {
   "cell_type": "code",
   "execution_count": null,
   "metadata": {},
   "outputs": [],
   "source": []
  }
 ],
 "metadata": {
  "kernelspec": {
   "display_name": "Python 3",
   "language": "python",
   "name": "python3"
  },
  "language_info": {
   "codemirror_mode": {
    "name": "ipython",
    "version": 3
   },
   "file_extension": ".py",
   "mimetype": "text/x-python",
   "name": "python",
   "nbconvert_exporter": "python",
   "pygments_lexer": "ipython3",
   "version": "3.6.6"
  }
 },
 "nbformat": 4,
 "nbformat_minor": 2
}
